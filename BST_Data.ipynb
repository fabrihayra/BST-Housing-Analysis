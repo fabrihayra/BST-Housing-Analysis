{
  "nbformat": 4,
  "nbformat_minor": 0,
  "metadata": {
    "colab": {
      "provenance": [],
      "authorship_tag": "ABX9TyNYpsgXdgHW/XJTGl3d/m7c",
      "include_colab_link": true
    },
    "kernelspec": {
      "name": "python3",
      "display_name": "Python 3"
    },
    "language_info": {
      "name": "python"
    }
  },
  "cells": [
    {
      "cell_type": "markdown",
      "metadata": {
        "id": "view-in-github",
        "colab_type": "text"
      },
      "source": [
        "<a href=\"https://colab.research.google.com/github/fabrihayra/BST-Housing-Analysis/blob/main/BST_Data.ipynb\" target=\"_parent\"><img src=\"https://colab.research.google.com/assets/colab-badge.svg\" alt=\"Open In Colab\"/></a>"
      ]
    },
    {
      "cell_type": "code",
      "source": [
        "# TensorFlow and tf.keras\n",
        "import tensorflow as tf\n",
        "from tensorflow import keras\n",
        "from tensorflow.keras.layers import Conv2D, MaxPooling2D, Dropout, Flatten, Dense\n",
        "\n",
        "# Commonly used modules\n",
        "import numpy as np\n",
        "import os\n",
        "import sys\n",
        "\n",
        "# Images, plots, display, and visualization\n",
        "import matplotlib.pyplot as plt\n",
        "import pandas as pd\n",
        "import seaborn as sns\n",
        "import cv2\n",
        "import IPython\n",
        "from six.moves import urllib\n",
        "\n",
        "print(tf.__version__)"
      ],
      "metadata": {
        "colab": {
          "base_uri": "https://localhost:8080/"
        },
        "id": "Rvy14momr32-",
        "outputId": "bf4f4444-c959-4059-a9e7-724322bbbe4b"
      },
      "execution_count": 6,
      "outputs": [
        {
          "output_type": "stream",
          "name": "stdout",
          "text": [
            "2.12.0\n"
          ]
        }
      ]
    },
    {
      "cell_type": "markdown",
      "source": [
        "For the Boston housing dataset, we get 506 rows of data, with 13 features in each. Our task is to build a regression model that takes these 13 features as input and output a single value prediction of the \"median value of owner-occupied homes (in $1000)."
      ],
      "metadata": {
        "id": "kiM_3yg9sy2i"
      }
    },
    {
      "cell_type": "code",
      "source": [
        "(train_features, train_labels), (test_features, test_labels) = keras.datasets.boston_housing.load_data()\n",
        "\n",
        "# get per-feature statistics (mean, standard deviation) from the training set to normalize by\n",
        "train_mean = np.mean(train_features, axis=0)\n",
        "train_std = np.std(train_features, axis=0)\n",
        "train_features = (train_features - train_mean) / train_std"
      ],
      "metadata": {
        "colab": {
          "base_uri": "https://localhost:8080/"
        },
        "id": "S3WxOmSMsZlv",
        "outputId": "90ed2966-c9e5-4a93-c0bc-6a5cc04d565a"
      },
      "execution_count": 8,
      "outputs": [
        {
          "output_type": "stream",
          "name": "stdout",
          "text": [
            "Downloading data from https://storage.googleapis.com/tensorflow/tf-keras-datasets/boston_housing.npz\n",
            "57026/57026 [==============================] - 0s 0us/step\n"
          ]
        }
      ]
    },
    {
      "cell_type": "markdown",
      "source": [
        "##Building the model:\n",
        "\n",
        "To build a neural network, we first need to configure its layers and then compile the model. In Keras, we can stack layers using the Sequential class. Once the layers are defined, we need to specify the loss function, optimizer, and metrics to monitor the model's performance during training.\n",
        "\n",
        "For the network we want to build, we will use one hidden layer consisting of 20 neurons. To train the model for a regression problem, we will use mean squared error (MSE) as the loss function, which measures the difference between the predicted and actual values. The optimizer will be responsible for updating the model parameters based on the computed loss. Finally, we will select some metrics to monitor the training and testing steps."
      ],
      "metadata": {
        "id": "Q49niGq-tYNX"
      }
    },
    {
      "cell_type": "code",
      "source": [
        "def build_model():\n",
        "    model = keras.Sequential([\n",
        "        Dense(20, activation=tf.nn.relu, input_shape=[len(train_features[0])]),\n",
        "        Dense(1)\n",
        "    ])\n",
        "\n",
        "    model.compile(optimizer=tf.optimizers.Adam(), \n",
        "                  loss='mse',\n",
        "                  metrics=['mae', 'mse'])\n",
        "    return model"
      ],
      "metadata": {
        "id": "hf6d8ASXtHuV"
      },
      "execution_count": 16,
      "outputs": []
    },
    {
      "cell_type": "markdown",
      "source": [
        "##Training the model:\n",
        "\n",
        "1. Feed the training data to the model—in this example, the '*train_features*' and '*train_labels arrays*'.\n",
        "2. The model learns to associate features and labels.\n",
        "3. Ask the model to make predictions about a test set—in this example, the *'test_features'* array. Verify that the predictions match the labels from the *'test_labels'* array."
      ],
      "metadata": {
        "id": "dVDlmF8vuXrj"
      }
    },
    {
      "cell_type": "code",
      "source": [
        "class PrintDot(keras.callbacks.Callback):\n",
        "    def on_epoch_end(self, epoch, logs):\n",
        "        if epoch % 100 == 0: print('')\n",
        "        print('.', end='')\n",
        "\n",
        "model = build_model()\n",
        "\n",
        "early_stop = keras.callbacks.EarlyStopping(monitor='val_loss', patience=50)\n",
        "history = model.fit(train_features, train_labels, epochs=1000, verbose=0, validation_split = 0.1,\n",
        "                    callbacks=[early_stop, PrintDot()])\n",
        "\n",
        "hist = pd.DataFrame(history.history)\n",
        "hist['epoch'] = history.epoch\n",
        "\n",
        "# RMSE measure to compare to Kaggle leaderboard on https://www.kaggle.com/c/boston-housing/leaderboard\n",
        "rmse_final = np.sqrt(float(hist['val_mse'].tail(1)))\n",
        "print()\n",
        "print('Final Root Mean Square Error on validation set: {}'.format(round(rmse_final, 3)))"
      ],
      "metadata": {
        "colab": {
          "base_uri": "https://localhost:8080/"
        },
        "id": "Qa4d1EHVtzMy",
        "outputId": "4aef0736-8386-40bf-88e5-02ef19e1b1d1"
      },
      "execution_count": 19,
      "outputs": [
        {
          "output_type": "stream",
          "name": "stdout",
          "text": [
            "\n",
            "....................................................................................................\n",
            "....................................................................................................\n",
            "....................................................................................................\n",
            "....................................................................................................\n",
            "....................................................................................................\n",
            "....................................................................................................\n",
            ".................................................................................................\n",
            "Final Root Mean Square Error on validation set: 2.455\n"
          ]
        }
      ]
    },
    {
      "cell_type": "markdown",
      "source": [
        "##Conclusions:\n",
        "\n",
        "The model training completed successfully and the final validation RMSE is 2.455. This means that on average, the model's predictions are off by about 2.455 units from the actual values.\n",
        "\n",
        "Now, we'll plot the loss function measure on the training and validation sets:"
      ],
      "metadata": {
        "id": "TUDsdF6gwkED"
      }
    },
    {
      "cell_type": "code",
      "source": [
        "def plot_history():\n",
        "    plt.figure()\n",
        "    plt.xlabel('Epoch')\n",
        "    plt.ylabel('Mean Square Error [Thousand Dollars$^2$]')\n",
        "    plt.plot(hist['epoch'], hist['mse'], label='Train Error')\n",
        "    plt.plot(hist['epoch'], hist['val_mse'], label = 'Val Error')\n",
        "    plt.legend()\n",
        "    plt.ylim([0,50])\n",
        "\n",
        "plot_history()"
      ],
      "metadata": {
        "colab": {
          "base_uri": "https://localhost:8080/",
          "height": 455
        },
        "id": "g_C01-x5wuFg",
        "outputId": "b4cf5e46-1ac6-4cfb-a54b-99c077613759"
      },
      "execution_count": 24,
      "outputs": [
        {
          "output_type": "display_data",
          "data": {
            "text/plain": [
              "<Figure size 640x480 with 1 Axes>"
            ],
            "image/png": "[encoded data removed]"
          },
          "metadata": {}
        }
      ]
    },
    {
      "cell_type": "markdown",
      "source": [
        "##Conclusion:\n",
        "\n",
        "The training and validation metrics both improve and converge to similar values over epochs, this indicates that the model is learning the patterns in the data and is not overfitting or underfitting.\n",
        "\n",
        "Now, comparing how the model performs on the test dataset:"
      ],
      "metadata": {
        "id": "AiirEPSmyG29"
      }
    },
    {
      "cell_type": "code",
      "source": [
        "test_features_norm = (test_features - train_mean) / train_std\n",
        "mse, _, _ = model.evaluate(test_features_norm, test_labels)\n",
        "rmse = np.sqrt(mse)\n",
        "print('Root Mean Square Error on test set: {}'.format(round(rmse, 3)))"
      ],
      "metadata": {
        "colab": {
          "base_uri": "https://localhost:8080/"
        },
        "id": "GvQOnXvwxaWp",
        "outputId": "a9a8c086-84ae-4194-d784-2e31590cff8f"
      },
      "execution_count": 25,
      "outputs": [
        {
          "output_type": "stream",
          "name": "stdout",
          "text": [
            "4/4 [==============================] - 0s 5ms/step - loss: 17.2064 - mae: 2.6245 - mse: 17.2064\n",
            "Root Mean Square Error on test set: 4.148\n"
          ]
        }
      ]
    },
    {
      "cell_type": "markdown",
      "source": [
        "##Trying other approaches to improve the model's test set performance:"
      ],
      "metadata": {
        "id": "S6bCSvenyz_t"
      }
    },
    {
      "cell_type": "code",
      "source": [
        "import numpy as np\n",
        "import pandas as pd\n",
        "import tensorflow as tf\n",
        "from tensorflow import keras\n",
        "from tensorflow.keras.layers import Dense, Dropout\n",
        "from sklearn.model_selection import train_test_split\n",
        "from sklearn.preprocessing import StandardScaler\n",
        "\n",
        "# Loading the Boston Housing dataset\n",
        "boston_housing = keras.datasets.boston_housing\n",
        "(train_data, train_labels), (test_data, test_labels) = boston_housing.load_data()\n",
        "\n",
        "# Spliting the training set into training and validation sets\n",
        "train_features, val_features, train_labels, val_labels = train_test_split(train_data, train_labels, test_size=0.2, random_state=42)\n",
        "\n",
        "# Normalizing the training, validation, and test features\n",
        "scaler = StandardScaler()\n",
        "train_features_norm = scaler.fit_transform(train_features)\n",
        "val_features_norm = scaler.transform(val_features)\n",
        "test_features_norm = scaler.transform(test_data)\n",
        "\n",
        "# Defining the function to build the model\n",
        "def build_model(num_layers=1, num_neurons=20, learning_rate=0.001, dropout_rate=0.0):\n",
        "    model = keras.Sequential()\n",
        "    for _ in range(num_layers):\n",
        "        model.add(Dense(num_neurons, activation='relu'))\n",
        "        if dropout_rate > 0.0:\n",
        "            model.add(Dropout(dropout_rate))\n",
        "    model.add(Dense(1))\n",
        "    optimizer = keras.optimizers.Adam(learning_rate=learning_rate)\n",
        "    model.compile(loss='mse', optimizer=optimizer, metrics=['mse', 'mae'])\n",
        "    return model\n",
        "\n",
        "# Building the model with the best hyperparameters from a grid search\n",
        "model = build_model(num_layers=2, num_neurons=30, learning_rate=0.01, dropout_rate=0.2)\n",
        "\n",
        "# Adding early stopping to prevent overfitting\n",
        "early_stop = keras.callbacks.EarlyStopping(monitor='val_loss', patience=20)\n",
        "\n",
        "# Training the model on the full training set with early stopping\n",
        "history = model.fit(train_features_norm, train_labels, epochs=1000, verbose=0,\n",
        "                    validation_data=(val_features_norm, val_labels), callbacks=[early_stop])\n",
        "\n",
        "# Evaluating the model on the test set\n",
        "mse, _, mae = model.evaluate(test_features_norm, test_labels, verbose=0)\n",
        "rmse = np.sqrt(mse)\n",
        "print('Root Mean Square Error on test set: {}'.format(round(rmse, 3)))\n",
        "print('Mean Absolute Error on test set: {}'.format(round(mae, 3)))\n"
      ],
      "metadata": {
        "colab": {
          "base_uri": "https://localhost:8080/"
        },
        "id": "wrSDDgmDyW_v",
        "outputId": "c3cc4281-7abc-460b-9fa4-36bb9ac5b55f"
      },
      "execution_count": 32,
      "outputs": [
        {
          "output_type": "stream",
          "name": "stdout",
          "text": [
            "Root Mean Square Error on test set: 4.489\n",
            "Mean Absolute Error on test set: 2.964\n"
          ]
        }
      ]
    },
    {
      "cell_type": "code",
      "source": [
        "test_features_norm = (test_features - train_mean) / train_std\n",
        "mse, _, _ = model.evaluate(test_features_norm, test_labels)\n",
        "rmse = np.sqrt(mse)\n",
        "print('Root Mean Square Error on test set: {}'.format(round(rmse, 3)))"
      ],
      "metadata": {
        "colab": {
          "base_uri": "https://localhost:8080/"
        },
        "id": "-M0aK4D21cU2",
        "outputId": "21a7053c-0f2d-4b89-d801-283a933b6a6e"
      },
      "execution_count": 35,
      "outputs": [
        {
          "output_type": "stream",
          "name": "stdout",
          "text": [
            "4/4 [==============================] - 0s 10ms/step - loss: 8933158.0000 - mse: 8933158.0000 - mae: 2922.6072\n",
            "Root Mean Square Error on test set: 2988.839\n"
          ]
        }
      ]
    },
    {
      "cell_type": "code",
      "source": [
        "import matplotlib.pyplot as plt\n",
        "\n",
        "# Plotting the training and validation loss curves\n",
        "plt.plot(history.history['loss'])\n",
        "plt.plot(history.history['val_loss'])\n",
        "plt.title('Model loss')\n",
        "plt.xlabel('Epoch')\n",
        "plt.ylabel('Loss')\n",
        "plt.legend(['Train', 'Val'], loc='upper right')\n",
        "plt.show()\n"
      ],
      "metadata": {
        "colab": {
          "base_uri": "https://localhost:8080/",
          "height": 472
        },
        "id": "-A7_GPHU1qXy",
        "outputId": "be644e05-b9b9-4fe9-e99e-8cc59d100ee3"
      },
      "execution_count": 37,
      "outputs": [
        {
          "output_type": "display_data",
          "data": {
            "text/plain": [
              "<Figure size 640x480 with 1 Axes>"
            ],
            "image/png": "[encoded data removed]"
          },
          "metadata": {}
        }
      ]
    },
    {
      "cell_type": "code",
      "source": [],
      "metadata": {
        "id": "H_wR1ll214wm"
      },
      "execution_count": null,
      "outputs": []
    }
  ]
}